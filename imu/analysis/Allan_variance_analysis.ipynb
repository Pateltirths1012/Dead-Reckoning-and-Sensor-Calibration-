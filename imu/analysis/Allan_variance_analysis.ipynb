{
 "cells": [
  {
   "cell_type": "markdown",
   "metadata": {},
   "source": [
    "# Allan Variance Analysis"
   ]
  },
  {
   "cell_type": "code",
   "execution_count": 38,
   "metadata": {},
   "outputs": [
    {
     "name": "stdout",
     "output_type": "stream",
     "text": [
      "[INFO]  Data folder ../data/LocationC already exists. Not creating.\n"
     ]
    }
   ],
   "source": [
    "import bagpy\n",
    "from bagpy import bagreader\n",
    "import matplotlib.pyplot as plt\n",
    "import numpy as np\n",
    "import pandas as pd\n",
    "import seaborn as sea\n",
    "\n",
    "imu_reader_location_c = bagreader('../data/LocationC.bag')\n"
   ]
  },
  {
   "cell_type": "code",
   "execution_count": 39,
   "metadata": {},
   "outputs": [
    {
     "data": {
      "text/html": [
       "<div>\n",
       "<style scoped>\n",
       "    .dataframe tbody tr th:only-of-type {\n",
       "        vertical-align: middle;\n",
       "    }\n",
       "\n",
       "    .dataframe tbody tr th {\n",
       "        vertical-align: top;\n",
       "    }\n",
       "\n",
       "    .dataframe thead th {\n",
       "        text-align: right;\n",
       "    }\n",
       "</style>\n",
       "<table border=\"1\" class=\"dataframe\">\n",
       "  <thead>\n",
       "    <tr style=\"text-align: right;\">\n",
       "      <th></th>\n",
       "      <th>Topics</th>\n",
       "      <th>Types</th>\n",
       "      <th>Message Count</th>\n",
       "      <th>Frequency</th>\n",
       "    </tr>\n",
       "  </thead>\n",
       "  <tbody>\n",
       "    <tr>\n",
       "      <th>0</th>\n",
       "      <td>/rosout</td>\n",
       "      <td>rosgraph_msgs/Log</td>\n",
       "      <td>1</td>\n",
       "      <td>NaN</td>\n",
       "    </tr>\n",
       "    <tr>\n",
       "      <th>1</th>\n",
       "      <td>/vectornav</td>\n",
       "      <td>rospy_tutorials/HeaderString</td>\n",
       "      <td>719907</td>\n",
       "      <td>40.007097</td>\n",
       "    </tr>\n",
       "  </tbody>\n",
       "</table>\n",
       "</div>"
      ],
      "text/plain": [
       "       Topics                         Types  Message Count  Frequency\n",
       "0     /rosout             rosgraph_msgs/Log              1        NaN\n",
       "1  /vectornav  rospy_tutorials/HeaderString         719907  40.007097"
      ]
     },
     "execution_count": 39,
     "metadata": {},
     "output_type": "execute_result"
    }
   ],
   "source": [
    "imu_reader_location_c.topic_table"
   ]
  },
  {
   "cell_type": "code",
   "execution_count": 40,
   "metadata": {},
   "outputs": [],
   "source": [
    "imu_reader_location_c_msg = imu_reader_location_c.message_by_topic('/vectornav')"
   ]
  },
  {
   "cell_type": "code",
   "execution_count": 43,
   "metadata": {},
   "outputs": [
    {
     "data": {
      "text/html": [
       "<div>\n",
       "<style scoped>\n",
       "    .dataframe tbody tr th:only-of-type {\n",
       "        vertical-align: middle;\n",
       "    }\n",
       "\n",
       "    .dataframe tbody tr th {\n",
       "        vertical-align: top;\n",
       "    }\n",
       "\n",
       "    .dataframe thead th {\n",
       "        text-align: right;\n",
       "    }\n",
       "</style>\n",
       "<table border=\"1\" class=\"dataframe\">\n",
       "  <thead>\n",
       "    <tr style=\"text-align: right;\">\n",
       "      <th></th>\n",
       "      <th>Time</th>\n",
       "      <th>header.seq</th>\n",
       "      <th>header.stamp.secs</th>\n",
       "      <th>header.stamp.nsecs</th>\n",
       "      <th>header.frame_id</th>\n",
       "      <th>data</th>\n",
       "    </tr>\n",
       "  </thead>\n",
       "  <tbody>\n",
       "    <tr>\n",
       "      <th>0</th>\n",
       "      <td>1.676784e+09</td>\n",
       "      <td>1</td>\n",
       "      <td>1676784144</td>\n",
       "      <td>820079326</td>\n",
       "      <td>we don't need no frame id</td>\n",
       "      <td>$VNYMR,+178.590,+000.595,+056.509,-00.2200,+00...</td>\n",
       "    </tr>\n",
       "    <tr>\n",
       "      <th>1</th>\n",
       "      <td>1.676784e+09</td>\n",
       "      <td>2</td>\n",
       "      <td>1676784144</td>\n",
       "      <td>845151901</td>\n",
       "      <td>we don't need no frame id</td>\n",
       "      <td>$VNYMR,+178.590,+000.595,+056.511,-00.2209,+00...</td>\n",
       "    </tr>\n",
       "    <tr>\n",
       "      <th>2</th>\n",
       "      <td>1.676784e+09</td>\n",
       "      <td>3</td>\n",
       "      <td>1676784144</td>\n",
       "      <td>870180845</td>\n",
       "      <td>we don't need no frame id</td>\n",
       "      <td>$VNYMR,+178.590,+000.595,+056.510,-00.2190,+00...</td>\n",
       "    </tr>\n",
       "    <tr>\n",
       "      <th>3</th>\n",
       "      <td>1.676784e+09</td>\n",
       "      <td>4</td>\n",
       "      <td>1676784144</td>\n",
       "      <td>895199298</td>\n",
       "      <td>we don't need no frame id</td>\n",
       "      <td>$VNYMR,+178.587,+000.594,+056.509,-00.2199,+00...</td>\n",
       "    </tr>\n",
       "    <tr>\n",
       "      <th>4</th>\n",
       "      <td>1.676784e+09</td>\n",
       "      <td>5</td>\n",
       "      <td>1676784144</td>\n",
       "      <td>920007228</td>\n",
       "      <td>we don't need no frame id</td>\n",
       "      <td>$VNYMR,+178.587,+000.594,+056.511,-00.2219,+00...</td>\n",
       "    </tr>\n",
       "  </tbody>\n",
       "</table>\n",
       "</div>"
      ],
      "text/plain": [
       "           Time  header.seq  header.stamp.secs  header.stamp.nsecs  \\\n",
       "0  1.676784e+09           1         1676784144           820079326   \n",
       "1  1.676784e+09           2         1676784144           845151901   \n",
       "2  1.676784e+09           3         1676784144           870180845   \n",
       "3  1.676784e+09           4         1676784144           895199298   \n",
       "4  1.676784e+09           5         1676784144           920007228   \n",
       "\n",
       "             header.frame_id  \\\n",
       "0  we don't need no frame id   \n",
       "1  we don't need no frame id   \n",
       "2  we don't need no frame id   \n",
       "3  we don't need no frame id   \n",
       "4  we don't need no frame id   \n",
       "\n",
       "                                                data  \n",
       "0  $VNYMR,+178.590,+000.595,+056.509,-00.2200,+00...  \n",
       "1  $VNYMR,+178.590,+000.595,+056.511,-00.2209,+00...  \n",
       "2  $VNYMR,+178.590,+000.595,+056.510,-00.2190,+00...  \n",
       "3  $VNYMR,+178.587,+000.594,+056.509,-00.2199,+00...  \n",
       "4  $VNYMR,+178.587,+000.594,+056.511,-00.2219,+00...  "
      ]
     },
     "execution_count": 43,
     "metadata": {},
     "output_type": "execute_result"
    }
   ],
   "source": [
    "imu_reader_location_c_data = pd.read_csv(imu_reader_location_c_msg)\n",
    "imu_reader_location_c_data.head()"
   ]
  },
  {
   "cell_type": "markdown",
   "metadata": {},
   "source": [
    "### Data Preprocessing"
   ]
  },
  {
   "cell_type": "code",
   "execution_count": 44,
   "metadata": {},
   "outputs": [
    {
     "name": "stdout",
     "output_type": "stream",
     "text": [
      "0         $VNYMR,+178.590,+000.595,+056.509,-00.2200,+00...\n",
      "1         $VNYMR,+178.590,+000.595,+056.511,-00.2209,+00...\n",
      "2         $VNYMR,+178.590,+000.595,+056.510,-00.2190,+00...\n",
      "3         $VNYMR,+178.587,+000.594,+056.509,-00.2199,+00...\n",
      "4         $VNYMR,+178.587,+000.594,+056.511,-00.2219,+00...\n",
      "                                ...                        \n",
      "719902    $VNYMR,+179.091,+000.724,+057.376,-00.2218,+00...\n",
      "719903    $VNYMR,+179.089,+000.724,+057.375,-00.2228,+00...\n",
      "719904    $VNYMR,+179.089,+000.723,+057.376,-00.2237,+00...\n",
      "719905    $VNYMR,+179.091,+000.723,+057.377,-00.2246,+00...\n",
      "719906    $VNYMR,+179.090,+000.724,+057.376,-00.2247,+00...\n",
      "Name: data, Length: 719907, dtype: object\n"
     ]
    }
   ],
   "source": [
    "print(imu_reader_location_c_data['data'])"
   ]
  },
  {
   "cell_type": "code",
   "execution_count": 45,
   "metadata": {},
   "outputs": [
    {
     "name": "stdout",
     "output_type": "stream",
     "text": [
      "0         $VNYMR,+178.590,+000.595,+056.509,-00.2200,+00...\n",
      "1         $VNYMR,+178.590,+000.595,+056.511,-00.2209,+00...\n",
      "2         $VNYMR,+178.590,+000.595,+056.510,-00.2190,+00...\n",
      "3         $VNYMR,+178.587,+000.594,+056.509,-00.2199,+00...\n",
      "4         $VNYMR,+178.587,+000.594,+056.511,-00.2219,+00...\n",
      "                                ...                        \n",
      "719902    $VNYMR,+179.091,+000.724,+057.376,-00.2218,+00...\n",
      "719903    $VNYMR,+179.089,+000.724,+057.375,-00.2228,+00...\n",
      "719904    $VNYMR,+179.089,+000.723,+057.376,-00.2237,+00...\n",
      "719905    $VNYMR,+179.091,+000.723,+057.377,-00.2246,+00...\n",
      "719906    $VNYMR,+179.090,+000.724,+057.376,-00.2247,+00...\n",
      "Name: data, Length: 719907, dtype: object\n"
     ]
    }
   ],
   "source": [
    "split_imu_data = imu_reader_location_c_data['data']\n",
    "print(split_imu_data)"
   ]
  },
  {
   "cell_type": "code",
   "execution_count": 46,
   "metadata": {},
   "outputs": [],
   "source": [
    "\n",
    "split_imu_data = split_imu_data.str.split(\",\", expand=True)"
   ]
  },
  {
   "cell_type": "code",
   "execution_count": 47,
   "metadata": {},
   "outputs": [
    {
     "data": {
      "text/html": [
       "<div>\n",
       "<style scoped>\n",
       "    .dataframe tbody tr th:only-of-type {\n",
       "        vertical-align: middle;\n",
       "    }\n",
       "\n",
       "    .dataframe tbody tr th {\n",
       "        vertical-align: top;\n",
       "    }\n",
       "\n",
       "    .dataframe thead th {\n",
       "        text-align: right;\n",
       "    }\n",
       "</style>\n",
       "<table border=\"1\" class=\"dataframe\">\n",
       "  <thead>\n",
       "    <tr style=\"text-align: right;\">\n",
       "      <th></th>\n",
       "      <th>0</th>\n",
       "      <th>1</th>\n",
       "      <th>2</th>\n",
       "      <th>3</th>\n",
       "      <th>4</th>\n",
       "      <th>5</th>\n",
       "      <th>6</th>\n",
       "      <th>7</th>\n",
       "      <th>8</th>\n",
       "      <th>9</th>\n",
       "      <th>10</th>\n",
       "      <th>11</th>\n",
       "      <th>12</th>\n",
       "    </tr>\n",
       "  </thead>\n",
       "  <tbody>\n",
       "    <tr>\n",
       "      <th>0</th>\n",
       "      <td>$VNYMR</td>\n",
       "      <td>+178.590</td>\n",
       "      <td>+000.595</td>\n",
       "      <td>+056.509</td>\n",
       "      <td>-00.2200</td>\n",
       "      <td>+00.3706</td>\n",
       "      <td>+00.2549</td>\n",
       "      <td>+00.047</td>\n",
       "      <td>-08.227</td>\n",
       "      <td>-05.439</td>\n",
       "      <td>+00.000276</td>\n",
       "      <td>-00.000666</td>\n",
       "      <td>-00.000012*65\\r\\n</td>\n",
       "    </tr>\n",
       "    <tr>\n",
       "      <th>1</th>\n",
       "      <td>$VNYMR</td>\n",
       "      <td>+178.590</td>\n",
       "      <td>+000.595</td>\n",
       "      <td>+056.511</td>\n",
       "      <td>-00.2209</td>\n",
       "      <td>+00.3716</td>\n",
       "      <td>+00.2515</td>\n",
       "      <td>+00.094</td>\n",
       "      <td>-08.202</td>\n",
       "      <td>-05.439</td>\n",
       "      <td>+00.002981</td>\n",
       "      <td>-00.000320</td>\n",
       "      <td>+00.000013*65\\r\\n</td>\n",
       "    </tr>\n",
       "    <tr>\n",
       "      <th>2</th>\n",
       "      <td>$VNYMR</td>\n",
       "      <td>+178.590</td>\n",
       "      <td>+000.595</td>\n",
       "      <td>+056.510</td>\n",
       "      <td>-00.2190</td>\n",
       "      <td>+00.3746</td>\n",
       "      <td>+00.2571</td>\n",
       "      <td>+00.128</td>\n",
       "      <td>-08.225</td>\n",
       "      <td>-05.437</td>\n",
       "      <td>-00.002424</td>\n",
       "      <td>+00.001153</td>\n",
       "      <td>-00.001076*6C\\r\\n</td>\n",
       "    </tr>\n",
       "    <tr>\n",
       "      <th>3</th>\n",
       "      <td>$VNYMR</td>\n",
       "      <td>+178.587</td>\n",
       "      <td>+000.594</td>\n",
       "      <td>+056.509</td>\n",
       "      <td>-00.2199</td>\n",
       "      <td>+00.3746</td>\n",
       "      <td>+00.2548</td>\n",
       "      <td>+00.109</td>\n",
       "      <td>-08.235</td>\n",
       "      <td>-05.437</td>\n",
       "      <td>+00.000199</td>\n",
       "      <td>+00.000370</td>\n",
       "      <td>+00.000659*6B\\r\\n</td>\n",
       "    </tr>\n",
       "    <tr>\n",
       "      <th>4</th>\n",
       "      <td>$VNYMR</td>\n",
       "      <td>+178.587</td>\n",
       "      <td>+000.594</td>\n",
       "      <td>+056.511</td>\n",
       "      <td>-00.2219</td>\n",
       "      <td>+00.3707</td>\n",
       "      <td>+00.2537</td>\n",
       "      <td>+00.083</td>\n",
       "      <td>-08.205</td>\n",
       "      <td>-05.416</td>\n",
       "      <td>+00.000841</td>\n",
       "      <td>-00.000433</td>\n",
       "      <td>-00.000041*64\\r\\n</td>\n",
       "    </tr>\n",
       "    <tr>\n",
       "      <th>5</th>\n",
       "      <td>$VNYMR</td>\n",
       "      <td>+178.584</td>\n",
       "      <td>+000.595</td>\n",
       "      <td>+056.509</td>\n",
       "      <td>-00.2208</td>\n",
       "      <td>+00.3796</td>\n",
       "      <td>+00.2547</td>\n",
       "      <td>+00.074</td>\n",
       "      <td>-08.190</td>\n",
       "      <td>-05.451</td>\n",
       "      <td>-00.001410</td>\n",
       "      <td>-00.000870</td>\n",
       "      <td>-00.001292*6D\\r\\n</td>\n",
       "    </tr>\n",
       "    <tr>\n",
       "      <th>6</th>\n",
       "      <td>$VNYMR</td>\n",
       "      <td>+178.587</td>\n",
       "      <td>+000.594</td>\n",
       "      <td>+056.509</td>\n",
       "      <td>-00.2171</td>\n",
       "      <td>+00.3755</td>\n",
       "      <td>+00.2549</td>\n",
       "      <td>+00.128</td>\n",
       "      <td>-08.228</td>\n",
       "      <td>-05.454</td>\n",
       "      <td>+00.002220</td>\n",
       "      <td>+00.000623</td>\n",
       "      <td>-00.000143*6E\\r\\n</td>\n",
       "    </tr>\n",
       "    <tr>\n",
       "      <th>7</th>\n",
       "      <td>$VNYMR</td>\n",
       "      <td>+178.586</td>\n",
       "      <td>+000.594</td>\n",
       "      <td>+056.510</td>\n",
       "      <td>-00.2218</td>\n",
       "      <td>+00.3746</td>\n",
       "      <td>+00.2558</td>\n",
       "      <td>+00.136</td>\n",
       "      <td>-08.198</td>\n",
       "      <td>-05.419</td>\n",
       "      <td>-00.000241</td>\n",
       "      <td>+00.000253</td>\n",
       "      <td>+00.000339*6E\\r\\n</td>\n",
       "    </tr>\n",
       "    <tr>\n",
       "      <th>8</th>\n",
       "      <td>$VNYMR</td>\n",
       "      <td>+178.584</td>\n",
       "      <td>+000.595</td>\n",
       "      <td>+056.508</td>\n",
       "      <td>-00.2209</td>\n",
       "      <td>+00.3756</td>\n",
       "      <td>+00.2537</td>\n",
       "      <td>+00.071</td>\n",
       "      <td>-08.209</td>\n",
       "      <td>-05.444</td>\n",
       "      <td>+00.000111</td>\n",
       "      <td>-00.000455</td>\n",
       "      <td>-00.000672*67\\r\\n</td>\n",
       "    </tr>\n",
       "    <tr>\n",
       "      <th>9</th>\n",
       "      <td>$VNYMR</td>\n",
       "      <td>+178.580</td>\n",
       "      <td>+000.595</td>\n",
       "      <td>+056.510</td>\n",
       "      <td>-00.2209</td>\n",
       "      <td>+00.3716</td>\n",
       "      <td>+00.2526</td>\n",
       "      <td>+00.081</td>\n",
       "      <td>-08.194</td>\n",
       "      <td>-05.468</td>\n",
       "      <td>+00.001042</td>\n",
       "      <td>+00.000269</td>\n",
       "      <td>+00.000363*62\\r\\n</td>\n",
       "    </tr>\n",
       "  </tbody>\n",
       "</table>\n",
       "</div>"
      ],
      "text/plain": [
       "       0         1         2         3         4         5         6   \\\n",
       "0  $VNYMR  +178.590  +000.595  +056.509  -00.2200  +00.3706  +00.2549   \n",
       "1  $VNYMR  +178.590  +000.595  +056.511  -00.2209  +00.3716  +00.2515   \n",
       "2  $VNYMR  +178.590  +000.595  +056.510  -00.2190  +00.3746  +00.2571   \n",
       "3  $VNYMR  +178.587  +000.594  +056.509  -00.2199  +00.3746  +00.2548   \n",
       "4  $VNYMR  +178.587  +000.594  +056.511  -00.2219  +00.3707  +00.2537   \n",
       "5  $VNYMR  +178.584  +000.595  +056.509  -00.2208  +00.3796  +00.2547   \n",
       "6  $VNYMR  +178.587  +000.594  +056.509  -00.2171  +00.3755  +00.2549   \n",
       "7  $VNYMR  +178.586  +000.594  +056.510  -00.2218  +00.3746  +00.2558   \n",
       "8  $VNYMR  +178.584  +000.595  +056.508  -00.2209  +00.3756  +00.2537   \n",
       "9  $VNYMR  +178.580  +000.595  +056.510  -00.2209  +00.3716  +00.2526   \n",
       "\n",
       "        7        8        9           10          11                 12  \n",
       "0  +00.047  -08.227  -05.439  +00.000276  -00.000666  -00.000012*65\\r\\n  \n",
       "1  +00.094  -08.202  -05.439  +00.002981  -00.000320  +00.000013*65\\r\\n  \n",
       "2  +00.128  -08.225  -05.437  -00.002424  +00.001153  -00.001076*6C\\r\\n  \n",
       "3  +00.109  -08.235  -05.437  +00.000199  +00.000370  +00.000659*6B\\r\\n  \n",
       "4  +00.083  -08.205  -05.416  +00.000841  -00.000433  -00.000041*64\\r\\n  \n",
       "5  +00.074  -08.190  -05.451  -00.001410  -00.000870  -00.001292*6D\\r\\n  \n",
       "6  +00.128  -08.228  -05.454  +00.002220  +00.000623  -00.000143*6E\\r\\n  \n",
       "7  +00.136  -08.198  -05.419  -00.000241  +00.000253  +00.000339*6E\\r\\n  \n",
       "8  +00.071  -08.209  -05.444  +00.000111  -00.000455  -00.000672*67\\r\\n  \n",
       "9  +00.081  -08.194  -05.468  +00.001042  +00.000269  +00.000363*62\\r\\n  "
      ]
     },
     "execution_count": 47,
     "metadata": {},
     "output_type": "execute_result"
    }
   ],
   "source": [
    "split_imu_data.head(10)"
   ]
  },
  {
   "cell_type": "code",
   "execution_count": 48,
   "metadata": {},
   "outputs": [
    {
     "data": {
      "text/html": [
       "<div>\n",
       "<style scoped>\n",
       "    .dataframe tbody tr th:only-of-type {\n",
       "        vertical-align: middle;\n",
       "    }\n",
       "\n",
       "    .dataframe tbody tr th {\n",
       "        vertical-align: top;\n",
       "    }\n",
       "\n",
       "    .dataframe thead th {\n",
       "        text-align: right;\n",
       "    }\n",
       "</style>\n",
       "<table border=\"1\" class=\"dataframe\">\n",
       "  <thead>\n",
       "    <tr style=\"text-align: right;\">\n",
       "      <th></th>\n",
       "      <th>10</th>\n",
       "      <th>11</th>\n",
       "      <th>12</th>\n",
       "    </tr>\n",
       "  </thead>\n",
       "  <tbody>\n",
       "    <tr>\n",
       "      <th>0</th>\n",
       "      <td>+00.000276</td>\n",
       "      <td>-00.000666</td>\n",
       "      <td>-00.000012*65\\r\\n</td>\n",
       "    </tr>\n",
       "    <tr>\n",
       "      <th>1</th>\n",
       "      <td>+00.002981</td>\n",
       "      <td>-00.000320</td>\n",
       "      <td>+00.000013*65\\r\\n</td>\n",
       "    </tr>\n",
       "    <tr>\n",
       "      <th>2</th>\n",
       "      <td>-00.002424</td>\n",
       "      <td>+00.001153</td>\n",
       "      <td>-00.001076*6C\\r\\n</td>\n",
       "    </tr>\n",
       "    <tr>\n",
       "      <th>3</th>\n",
       "      <td>+00.000199</td>\n",
       "      <td>+00.000370</td>\n",
       "      <td>+00.000659*6B\\r\\n</td>\n",
       "    </tr>\n",
       "    <tr>\n",
       "      <th>4</th>\n",
       "      <td>+00.000841</td>\n",
       "      <td>-00.000433</td>\n",
       "      <td>-00.000041*64\\r\\n</td>\n",
       "    </tr>\n",
       "    <tr>\n",
       "      <th>5</th>\n",
       "      <td>-00.001410</td>\n",
       "      <td>-00.000870</td>\n",
       "      <td>-00.001292*6D\\r\\n</td>\n",
       "    </tr>\n",
       "    <tr>\n",
       "      <th>6</th>\n",
       "      <td>+00.002220</td>\n",
       "      <td>+00.000623</td>\n",
       "      <td>-00.000143*6E\\r\\n</td>\n",
       "    </tr>\n",
       "    <tr>\n",
       "      <th>7</th>\n",
       "      <td>-00.000241</td>\n",
       "      <td>+00.000253</td>\n",
       "      <td>+00.000339*6E\\r\\n</td>\n",
       "    </tr>\n",
       "    <tr>\n",
       "      <th>8</th>\n",
       "      <td>+00.000111</td>\n",
       "      <td>-00.000455</td>\n",
       "      <td>-00.000672*67\\r\\n</td>\n",
       "    </tr>\n",
       "    <tr>\n",
       "      <th>9</th>\n",
       "      <td>+00.001042</td>\n",
       "      <td>+00.000269</td>\n",
       "      <td>+00.000363*62\\r\\n</td>\n",
       "    </tr>\n",
       "  </tbody>\n",
       "</table>\n",
       "</div>"
      ],
      "text/plain": [
       "           10          11                 12\n",
       "0  +00.000276  -00.000666  -00.000012*65\\r\\n\n",
       "1  +00.002981  -00.000320  +00.000013*65\\r\\n\n",
       "2  -00.002424  +00.001153  -00.001076*6C\\r\\n\n",
       "3  +00.000199  +00.000370  +00.000659*6B\\r\\n\n",
       "4  +00.000841  -00.000433  -00.000041*64\\r\\n\n",
       "5  -00.001410  -00.000870  -00.001292*6D\\r\\n\n",
       "6  +00.002220  +00.000623  -00.000143*6E\\r\\n\n",
       "7  -00.000241  +00.000253  +00.000339*6E\\r\\n\n",
       "8  +00.000111  -00.000455  -00.000672*67\\r\\n\n",
       "9  +00.001042  +00.000269  +00.000363*62\\r\\n"
      ]
     },
     "execution_count": 48,
     "metadata": {},
     "output_type": "execute_result"
    }
   ],
   "source": [
    "gyro_data = split_imu_data[[10,11,12]]\n",
    "gyro_data.head(10)"
   ]
  },
  {
   "cell_type": "code",
   "execution_count": 49,
   "metadata": {},
   "outputs": [
    {
     "data": {
      "text/html": [
       "<div>\n",
       "<style scoped>\n",
       "    .dataframe tbody tr th:only-of-type {\n",
       "        vertical-align: middle;\n",
       "    }\n",
       "\n",
       "    .dataframe tbody tr th {\n",
       "        vertical-align: top;\n",
       "    }\n",
       "\n",
       "    .dataframe thead th {\n",
       "        text-align: right;\n",
       "    }\n",
       "</style>\n",
       "<table border=\"1\" class=\"dataframe\">\n",
       "  <thead>\n",
       "    <tr style=\"text-align: right;\">\n",
       "      <th></th>\n",
       "      <th>Angular_rate_x</th>\n",
       "      <th>Angular_rate_y</th>\n",
       "      <th>Angular_rate_z</th>\n",
       "    </tr>\n",
       "  </thead>\n",
       "  <tbody>\n",
       "    <tr>\n",
       "      <th>0</th>\n",
       "      <td>+00.000276</td>\n",
       "      <td>-00.000666</td>\n",
       "      <td>-00.000012*65\\r\\n</td>\n",
       "    </tr>\n",
       "    <tr>\n",
       "      <th>1</th>\n",
       "      <td>+00.002981</td>\n",
       "      <td>-00.000320</td>\n",
       "      <td>+00.000013*65\\r\\n</td>\n",
       "    </tr>\n",
       "    <tr>\n",
       "      <th>2</th>\n",
       "      <td>-00.002424</td>\n",
       "      <td>+00.001153</td>\n",
       "      <td>-00.001076*6C\\r\\n</td>\n",
       "    </tr>\n",
       "    <tr>\n",
       "      <th>3</th>\n",
       "      <td>+00.000199</td>\n",
       "      <td>+00.000370</td>\n",
       "      <td>+00.000659*6B\\r\\n</td>\n",
       "    </tr>\n",
       "    <tr>\n",
       "      <th>4</th>\n",
       "      <td>+00.000841</td>\n",
       "      <td>-00.000433</td>\n",
       "      <td>-00.000041*64\\r\\n</td>\n",
       "    </tr>\n",
       "    <tr>\n",
       "      <th>5</th>\n",
       "      <td>-00.001410</td>\n",
       "      <td>-00.000870</td>\n",
       "      <td>-00.001292*6D\\r\\n</td>\n",
       "    </tr>\n",
       "    <tr>\n",
       "      <th>6</th>\n",
       "      <td>+00.002220</td>\n",
       "      <td>+00.000623</td>\n",
       "      <td>-00.000143*6E\\r\\n</td>\n",
       "    </tr>\n",
       "    <tr>\n",
       "      <th>7</th>\n",
       "      <td>-00.000241</td>\n",
       "      <td>+00.000253</td>\n",
       "      <td>+00.000339*6E\\r\\n</td>\n",
       "    </tr>\n",
       "    <tr>\n",
       "      <th>8</th>\n",
       "      <td>+00.000111</td>\n",
       "      <td>-00.000455</td>\n",
       "      <td>-00.000672*67\\r\\n</td>\n",
       "    </tr>\n",
       "    <tr>\n",
       "      <th>9</th>\n",
       "      <td>+00.001042</td>\n",
       "      <td>+00.000269</td>\n",
       "      <td>+00.000363*62\\r\\n</td>\n",
       "    </tr>\n",
       "  </tbody>\n",
       "</table>\n",
       "</div>"
      ],
      "text/plain": [
       "  Angular_rate_x Angular_rate_y     Angular_rate_z\n",
       "0     +00.000276     -00.000666  -00.000012*65\\r\\n\n",
       "1     +00.002981     -00.000320  +00.000013*65\\r\\n\n",
       "2     -00.002424     +00.001153  -00.001076*6C\\r\\n\n",
       "3     +00.000199     +00.000370  +00.000659*6B\\r\\n\n",
       "4     +00.000841     -00.000433  -00.000041*64\\r\\n\n",
       "5     -00.001410     -00.000870  -00.001292*6D\\r\\n\n",
       "6     +00.002220     +00.000623  -00.000143*6E\\r\\n\n",
       "7     -00.000241     +00.000253  +00.000339*6E\\r\\n\n",
       "8     +00.000111     -00.000455  -00.000672*67\\r\\n\n",
       "9     +00.001042     +00.000269  +00.000363*62\\r\\n"
      ]
     },
     "execution_count": 49,
     "metadata": {},
     "output_type": "execute_result"
    }
   ],
   "source": [
    "column_names = ['Angular_rate_x', 'Angular_rate_y', 'Angular_rate_z']\n",
    "gyro_data.columns = column_names\n",
    "gyro_data.head(10)"
   ]
  },
  {
   "cell_type": "markdown",
   "metadata": {},
   "source": [
    "### Error Analysis"
   ]
  },
  {
   "cell_type": "code",
   "execution_count": 51,
   "metadata": {},
   "outputs": [
    {
     "data": {
      "text/html": [
       "<div>\n",
       "<style scoped>\n",
       "    .dataframe tbody tr th:only-of-type {\n",
       "        vertical-align: middle;\n",
       "    }\n",
       "\n",
       "    .dataframe tbody tr th {\n",
       "        vertical-align: top;\n",
       "    }\n",
       "\n",
       "    .dataframe thead th {\n",
       "        text-align: right;\n",
       "    }\n",
       "</style>\n",
       "<table border=\"1\" class=\"dataframe\">\n",
       "  <thead>\n",
       "    <tr style=\"text-align: right;\">\n",
       "      <th></th>\n",
       "      <th>Angular_rate_x</th>\n",
       "      <th>Angular_rate_y</th>\n",
       "      <th>Angular_rate_z</th>\n",
       "    </tr>\n",
       "  </thead>\n",
       "  <tbody>\n",
       "    <tr>\n",
       "      <th>0</th>\n",
       "      <td>+00.000276</td>\n",
       "      <td>-00.000666</td>\n",
       "      <td>-00.000012*65\\r\\n</td>\n",
       "    </tr>\n",
       "    <tr>\n",
       "      <th>1</th>\n",
       "      <td>+00.002981</td>\n",
       "      <td>-00.000320</td>\n",
       "      <td>+00.000013*65\\r\\n</td>\n",
       "    </tr>\n",
       "    <tr>\n",
       "      <th>2</th>\n",
       "      <td>-00.002424</td>\n",
       "      <td>+00.001153</td>\n",
       "      <td>-00.001076*6C\\r\\n</td>\n",
       "    </tr>\n",
       "    <tr>\n",
       "      <th>3</th>\n",
       "      <td>+00.000199</td>\n",
       "      <td>+00.000370</td>\n",
       "      <td>+00.000659*6B\\r\\n</td>\n",
       "    </tr>\n",
       "    <tr>\n",
       "      <th>4</th>\n",
       "      <td>+00.000841</td>\n",
       "      <td>-00.000433</td>\n",
       "      <td>-00.000041*64\\r\\n</td>\n",
       "    </tr>\n",
       "  </tbody>\n",
       "</table>\n",
       "</div>"
      ],
      "text/plain": [
       "  Angular_rate_x Angular_rate_y     Angular_rate_z\n",
       "0     +00.000276     -00.000666  -00.000012*65\\r\\n\n",
       "1     +00.002981     -00.000320  +00.000013*65\\r\\n\n",
       "2     -00.002424     +00.001153  -00.001076*6C\\r\\n\n",
       "3     +00.000199     +00.000370  +00.000659*6B\\r\\n\n",
       "4     +00.000841     -00.000433  -00.000041*64\\r\\n"
      ]
     },
     "execution_count": 51,
     "metadata": {},
     "output_type": "execute_result"
    }
   ],
   "source": [
    "gyro_data.head()"
   ]
  },
  {
   "cell_type": "code",
   "execution_count": 52,
   "metadata": {},
   "outputs": [
    {
     "data": {
      "text/html": [
       "<div>\n",
       "<style scoped>\n",
       "    .dataframe tbody tr th:only-of-type {\n",
       "        vertical-align: middle;\n",
       "    }\n",
       "\n",
       "    .dataframe tbody tr th {\n",
       "        vertical-align: top;\n",
       "    }\n",
       "\n",
       "    .dataframe thead th {\n",
       "        text-align: right;\n",
       "    }\n",
       "</style>\n",
       "<table border=\"1\" class=\"dataframe\">\n",
       "  <thead>\n",
       "    <tr style=\"text-align: right;\">\n",
       "      <th></th>\n",
       "      <th>Angular_rate_x</th>\n",
       "      <th>Angular_rate_y</th>\n",
       "      <th>Angular_rate_z</th>\n",
       "    </tr>\n",
       "  </thead>\n",
       "  <tbody>\n",
       "    <tr>\n",
       "      <th>0</th>\n",
       "      <td>+00.000276</td>\n",
       "      <td>-00.000666</td>\n",
       "      <td>-00.000012*65\\r\\n</td>\n",
       "    </tr>\n",
       "    <tr>\n",
       "      <th>1</th>\n",
       "      <td>+00.002981</td>\n",
       "      <td>-00.000320</td>\n",
       "      <td>+00.000013*65\\r\\n</td>\n",
       "    </tr>\n",
       "    <tr>\n",
       "      <th>2</th>\n",
       "      <td>-00.002424</td>\n",
       "      <td>+00.001153</td>\n",
       "      <td>-00.001076*6C\\r\\n</td>\n",
       "    </tr>\n",
       "    <tr>\n",
       "      <th>3</th>\n",
       "      <td>+00.000199</td>\n",
       "      <td>+00.000370</td>\n",
       "      <td>+00.000659*6B\\r\\n</td>\n",
       "    </tr>\n",
       "    <tr>\n",
       "      <th>4</th>\n",
       "      <td>+00.000841</td>\n",
       "      <td>-00.000433</td>\n",
       "      <td>-00.000041*64\\r\\n</td>\n",
       "    </tr>\n",
       "  </tbody>\n",
       "</table>\n",
       "</div>"
      ],
      "text/plain": [
       "  Angular_rate_x Angular_rate_y     Angular_rate_z\n",
       "0     +00.000276     -00.000666  -00.000012*65\\r\\n\n",
       "1     +00.002981     -00.000320  +00.000013*65\\r\\n\n",
       "2     -00.002424     +00.001153  -00.001076*6C\\r\\n\n",
       "3     +00.000199     +00.000370  +00.000659*6B\\r\\n\n",
       "4     +00.000841     -00.000433  -00.000041*64\\r\\n"
      ]
     },
     "execution_count": 52,
     "metadata": {},
     "output_type": "execute_result"
    }
   ],
   "source": [
    "gyro_data = pd.DataFrame(gyro_data)\n",
    "gyro_data.head()"
   ]
  },
  {
   "cell_type": "code",
   "execution_count": 64,
   "metadata": {},
   "outputs": [
    {
     "data": {
      "text/html": [
       "<div>\n",
       "<style scoped>\n",
       "    .dataframe tbody tr th:only-of-type {\n",
       "        vertical-align: middle;\n",
       "    }\n",
       "\n",
       "    .dataframe tbody tr th {\n",
       "        vertical-align: top;\n",
       "    }\n",
       "\n",
       "    .dataframe thead th {\n",
       "        text-align: right;\n",
       "    }\n",
       "</style>\n",
       "<table border=\"1\" class=\"dataframe\">\n",
       "  <thead>\n",
       "    <tr style=\"text-align: right;\">\n",
       "      <th></th>\n",
       "      <th>Angular_rate_x</th>\n",
       "      <th>Angular_rate_y</th>\n",
       "      <th>Angular_rate_z</th>\n",
       "    </tr>\n",
       "  </thead>\n",
       "  <tbody>\n",
       "    <tr>\n",
       "      <th>0</th>\n",
       "      <td>0.000276</td>\n",
       "      <td>-0.000666</td>\n",
       "      <td>-00.000012\\n</td>\n",
       "    </tr>\n",
       "    <tr>\n",
       "      <th>1</th>\n",
       "      <td>0.002981</td>\n",
       "      <td>-0.000320</td>\n",
       "      <td>+00.000013\\n</td>\n",
       "    </tr>\n",
       "    <tr>\n",
       "      <th>2</th>\n",
       "      <td>-0.002424</td>\n",
       "      <td>0.001153</td>\n",
       "      <td>-00.001076\\n</td>\n",
       "    </tr>\n",
       "    <tr>\n",
       "      <th>3</th>\n",
       "      <td>0.000199</td>\n",
       "      <td>0.000370</td>\n",
       "      <td>+00.000659\\n</td>\n",
       "    </tr>\n",
       "    <tr>\n",
       "      <th>4</th>\n",
       "      <td>0.000841</td>\n",
       "      <td>-0.000433</td>\n",
       "      <td>-00.000041\\n</td>\n",
       "    </tr>\n",
       "  </tbody>\n",
       "</table>\n",
       "</div>"
      ],
      "text/plain": [
       "   Angular_rate_x  Angular_rate_y Angular_rate_z\n",
       "0        0.000276       -0.000666   -00.000012\\n\n",
       "1        0.002981       -0.000320   +00.000013\\n\n",
       "2       -0.002424        0.001153   -00.001076\\n\n",
       "3        0.000199        0.000370   +00.000659\\n\n",
       "4        0.000841       -0.000433   -00.000041\\n"
      ]
     },
     "execution_count": 64,
     "metadata": {},
     "output_type": "execute_result"
    }
   ],
   "source": [
    "gyro_data['Angular_rate_z'] = gyro_data['Angular_rate_z'].str.split(\"*\",expand=True)\n",
    "gyro_data.head()\n"
   ]
  },
  {
   "cell_type": "code",
   "execution_count": 67,
   "metadata": {},
   "outputs": [
    {
     "data": {
      "text/html": [
       "<div>\n",
       "<style scoped>\n",
       "    .dataframe tbody tr th:only-of-type {\n",
       "        vertical-align: middle;\n",
       "    }\n",
       "\n",
       "    .dataframe tbody tr th {\n",
       "        vertical-align: top;\n",
       "    }\n",
       "\n",
       "    .dataframe thead th {\n",
       "        text-align: right;\n",
       "    }\n",
       "</style>\n",
       "<table border=\"1\" class=\"dataframe\">\n",
       "  <thead>\n",
       "    <tr style=\"text-align: right;\">\n",
       "      <th></th>\n",
       "      <th>Angular_rate_x</th>\n",
       "      <th>Angular_rate_y</th>\n",
       "      <th>Angular_rate_z</th>\n",
       "    </tr>\n",
       "  </thead>\n",
       "  <tbody>\n",
       "    <tr>\n",
       "      <th>0</th>\n",
       "      <td>0.000276</td>\n",
       "      <td>-0.000666</td>\n",
       "      <td>-00.000012</td>\n",
       "    </tr>\n",
       "    <tr>\n",
       "      <th>1</th>\n",
       "      <td>0.002981</td>\n",
       "      <td>-0.000320</td>\n",
       "      <td>+00.000013</td>\n",
       "    </tr>\n",
       "    <tr>\n",
       "      <th>2</th>\n",
       "      <td>-0.002424</td>\n",
       "      <td>0.001153</td>\n",
       "      <td>-00.001076</td>\n",
       "    </tr>\n",
       "    <tr>\n",
       "      <th>3</th>\n",
       "      <td>0.000199</td>\n",
       "      <td>0.000370</td>\n",
       "      <td>+00.000659</td>\n",
       "    </tr>\n",
       "    <tr>\n",
       "      <th>4</th>\n",
       "      <td>0.000841</td>\n",
       "      <td>-0.000433</td>\n",
       "      <td>-00.000041</td>\n",
       "    </tr>\n",
       "  </tbody>\n",
       "</table>\n",
       "</div>"
      ],
      "text/plain": [
       "   Angular_rate_x  Angular_rate_y Angular_rate_z\n",
       "0        0.000276       -0.000666     -00.000012\n",
       "1        0.002981       -0.000320     +00.000013\n",
       "2       -0.002424        0.001153     -00.001076\n",
       "3        0.000199        0.000370     +00.000659\n",
       "4        0.000841       -0.000433     -00.000041"
      ]
     },
     "execution_count": 67,
     "metadata": {},
     "output_type": "execute_result"
    }
   ],
   "source": [
    "gyro_data['Angular_rate_z'] = gyro_data['Angular_rate_z'].str.strip()\n",
    "gyro_data.head()"
   ]
  },
  {
   "cell_type": "code",
   "execution_count": 69,
   "metadata": {},
   "outputs": [
    {
     "data": {
      "text/html": [
       "<div>\n",
       "<style scoped>\n",
       "    .dataframe tbody tr th:only-of-type {\n",
       "        vertical-align: middle;\n",
       "    }\n",
       "\n",
       "    .dataframe tbody tr th {\n",
       "        vertical-align: top;\n",
       "    }\n",
       "\n",
       "    .dataframe thead th {\n",
       "        text-align: right;\n",
       "    }\n",
       "</style>\n",
       "<table border=\"1\" class=\"dataframe\">\n",
       "  <thead>\n",
       "    <tr style=\"text-align: right;\">\n",
       "      <th></th>\n",
       "      <th>Angular_rate_x</th>\n",
       "      <th>Angular_rate_y</th>\n",
       "      <th>Angular_rate_z</th>\n",
       "    </tr>\n",
       "  </thead>\n",
       "  <tbody>\n",
       "    <tr>\n",
       "      <th>0</th>\n",
       "      <td>0.000276</td>\n",
       "      <td>-0.000666</td>\n",
       "      <td>-00.000012</td>\n",
       "    </tr>\n",
       "    <tr>\n",
       "      <th>1</th>\n",
       "      <td>0.002981</td>\n",
       "      <td>-0.000320</td>\n",
       "      <td>+00.000013</td>\n",
       "    </tr>\n",
       "    <tr>\n",
       "      <th>2</th>\n",
       "      <td>-0.002424</td>\n",
       "      <td>0.001153</td>\n",
       "      <td>-00.001076</td>\n",
       "    </tr>\n",
       "    <tr>\n",
       "      <th>3</th>\n",
       "      <td>0.000199</td>\n",
       "      <td>0.000370</td>\n",
       "      <td>+00.000659</td>\n",
       "    </tr>\n",
       "    <tr>\n",
       "      <th>4</th>\n",
       "      <td>0.000841</td>\n",
       "      <td>-0.000433</td>\n",
       "      <td>-00.000041</td>\n",
       "    </tr>\n",
       "  </tbody>\n",
       "</table>\n",
       "</div>"
      ],
      "text/plain": [
       "   Angular_rate_x  Angular_rate_y Angular_rate_z\n",
       "0        0.000276       -0.000666     -00.000012\n",
       "1        0.002981       -0.000320     +00.000013\n",
       "2       -0.002424        0.001153     -00.001076\n",
       "3        0.000199        0.000370     +00.000659\n",
       "4        0.000841       -0.000433     -00.000041"
      ]
     },
     "execution_count": 69,
     "metadata": {},
     "output_type": "execute_result"
    }
   ],
   "source": [
    "gyro_data['Angular_rate_x'] = gyro_data['Angular_rate_x'].astype(float)\n",
    "gyro_data['Angular_rate_y'] = gyro_data['Angular_rate_y'].astype(float)\n",
    "\n",
    "gyro_data.head()"
   ]
  },
  {
   "cell_type": "code",
   "execution_count": 73,
   "metadata": {},
   "outputs": [],
   "source": [
    "gyro_data = gyro_data[gyro_data['Angular_rate_z'].str.split('.').str.len() <= 2]  # Check for at most 1 decimal point\n"
   ]
  },
  {
   "cell_type": "code",
   "execution_count": 75,
   "metadata": {},
   "outputs": [],
   "source": [
    "gyro_data['Angular_rate_z'] = gyro_data['Angular_rate_z'].astype(float)\n"
   ]
  },
  {
   "cell_type": "code",
   "execution_count": 76,
   "metadata": {},
   "outputs": [
    {
     "data": {
      "text/html": [
       "<div>\n",
       "<style scoped>\n",
       "    .dataframe tbody tr th:only-of-type {\n",
       "        vertical-align: middle;\n",
       "    }\n",
       "\n",
       "    .dataframe tbody tr th {\n",
       "        vertical-align: top;\n",
       "    }\n",
       "\n",
       "    .dataframe thead th {\n",
       "        text-align: right;\n",
       "    }\n",
       "</style>\n",
       "<table border=\"1\" class=\"dataframe\">\n",
       "  <thead>\n",
       "    <tr style=\"text-align: right;\">\n",
       "      <th></th>\n",
       "      <th>Angular_rate_x</th>\n",
       "      <th>Angular_rate_y</th>\n",
       "      <th>Angular_rate_z</th>\n",
       "    </tr>\n",
       "  </thead>\n",
       "  <tbody>\n",
       "    <tr>\n",
       "      <th>0</th>\n",
       "      <td>0.000276</td>\n",
       "      <td>-0.000666</td>\n",
       "      <td>-0.000012</td>\n",
       "    </tr>\n",
       "    <tr>\n",
       "      <th>1</th>\n",
       "      <td>0.002981</td>\n",
       "      <td>-0.000320</td>\n",
       "      <td>0.000013</td>\n",
       "    </tr>\n",
       "    <tr>\n",
       "      <th>2</th>\n",
       "      <td>-0.002424</td>\n",
       "      <td>0.001153</td>\n",
       "      <td>-0.001076</td>\n",
       "    </tr>\n",
       "    <tr>\n",
       "      <th>3</th>\n",
       "      <td>0.000199</td>\n",
       "      <td>0.000370</td>\n",
       "      <td>0.000659</td>\n",
       "    </tr>\n",
       "    <tr>\n",
       "      <th>4</th>\n",
       "      <td>0.000841</td>\n",
       "      <td>-0.000433</td>\n",
       "      <td>-0.000041</td>\n",
       "    </tr>\n",
       "  </tbody>\n",
       "</table>\n",
       "</div>"
      ],
      "text/plain": [
       "   Angular_rate_x  Angular_rate_y  Angular_rate_z\n",
       "0        0.000276       -0.000666       -0.000012\n",
       "1        0.002981       -0.000320        0.000013\n",
       "2       -0.002424        0.001153       -0.001076\n",
       "3        0.000199        0.000370        0.000659\n",
       "4        0.000841       -0.000433       -0.000041"
      ]
     },
     "execution_count": 76,
     "metadata": {},
     "output_type": "execute_result"
    }
   ],
   "source": [
    "gyro_data.head()"
   ]
  },
  {
   "cell_type": "code",
   "execution_count": 77,
   "metadata": {},
   "outputs": [
    {
     "name": "stdout",
     "output_type": "stream",
     "text": [
      "<class 'pandas.core.frame.DataFrame'>\n",
      "Index: 719859 entries, 0 to 719906\n",
      "Data columns (total 3 columns):\n",
      " #   Column          Non-Null Count   Dtype  \n",
      "---  ------          --------------   -----  \n",
      " 0   Angular_rate_x  719859 non-null  float64\n",
      " 1   Angular_rate_y  719859 non-null  float64\n",
      " 2   Angular_rate_z  719859 non-null  float64\n",
      "dtypes: float64(3)\n",
      "memory usage: 22.0 MB\n"
     ]
    }
   ],
   "source": [
    "gyro_data.info()"
   ]
  },
  {
   "cell_type": "code",
   "execution_count": 78,
   "metadata": {},
   "outputs": [
    {
     "data": {
      "text/plain": [
       "719859"
      ]
     },
     "execution_count": 78,
     "metadata": {},
     "output_type": "execute_result"
    }
   ],
   "source": [
    "gyro_data['Angular_rate_z'].count()"
   ]
  },
  {
   "cell_type": "code",
   "execution_count": 83,
   "metadata": {},
   "outputs": [
    {
     "data": {
      "text/html": [
       "<div>\n",
       "<style scoped>\n",
       "    .dataframe tbody tr th:only-of-type {\n",
       "        vertical-align: middle;\n",
       "    }\n",
       "\n",
       "    .dataframe tbody tr th {\n",
       "        vertical-align: top;\n",
       "    }\n",
       "\n",
       "    .dataframe thead th {\n",
       "        text-align: right;\n",
       "    }\n",
       "</style>\n",
       "<table border=\"1\" class=\"dataframe\">\n",
       "  <thead>\n",
       "    <tr style=\"text-align: right;\">\n",
       "      <th></th>\n",
       "      <th>Angular_rate_x</th>\n",
       "      <th>Angular_rate_y</th>\n",
       "      <th>Angular_rate_z</th>\n",
       "    </tr>\n",
       "  </thead>\n",
       "  <tbody>\n",
       "    <tr>\n",
       "      <th>0</th>\n",
       "      <td>51.913102</td>\n",
       "      <td>-125.268572</td>\n",
       "      <td>-2.257091</td>\n",
       "    </tr>\n",
       "    <tr>\n",
       "      <th>1</th>\n",
       "      <td>560.699118</td>\n",
       "      <td>-60.189104</td>\n",
       "      <td>2.445182</td>\n",
       "    </tr>\n",
       "    <tr>\n",
       "      <th>2</th>\n",
       "      <td>-455.932460</td>\n",
       "      <td>216.868864</td>\n",
       "      <td>-202.385861</td>\n",
       "    </tr>\n",
       "    <tr>\n",
       "      <th>3</th>\n",
       "      <td>37.430099</td>\n",
       "      <td>69.593651</td>\n",
       "      <td>123.951935</td>\n",
       "    </tr>\n",
       "    <tr>\n",
       "      <th>4</th>\n",
       "      <td>158.184488</td>\n",
       "      <td>-81.443381</td>\n",
       "      <td>-7.711729</td>\n",
       "    </tr>\n",
       "  </tbody>\n",
       "</table>\n",
       "</div>"
      ],
      "text/plain": [
       "   Angular_rate_x  Angular_rate_y  Angular_rate_z\n",
       "0       51.913102     -125.268572       -2.257091\n",
       "1      560.699118      -60.189104        2.445182\n",
       "2     -455.932460      216.868864     -202.385861\n",
       "3       37.430099       69.593651      123.951935\n",
       "4      158.184488      -81.443381       -7.711729"
      ]
     },
     "execution_count": 83,
     "metadata": {},
     "output_type": "execute_result"
    }
   ],
   "source": [
    "gyro_data['Angular_rate_x'] = np.degrees(gyro_data['Angular_rate_x'])\n",
    "gyro_data['Angular_rate_y'] = np.degrees(gyro_data['Angular_rate_y'])\n",
    "gyro_data['Angular_rate_z'] = np.degrees(gyro_data['Angular_rate_z'])\n",
    "\n",
    "gyro_data.head()"
   ]
  },
  {
   "cell_type": "markdown",
   "metadata": {},
   "source": [
    "## Calculating Allan variance using Allantools "
   ]
  },
  {
   "cell_type": "code",
   "execution_count": 84,
   "metadata": {},
   "outputs": [],
   "source": [
    "import allantools\n",
    "\n",
    "#calculating for gyro-x\n",
    "Allan_dev_x = allantools.oadev(gyro_data['Angular_rate_x'], taus = 'all')"
   ]
  },
  {
   "cell_type": "code",
   "execution_count": 86,
   "metadata": {},
   "outputs": [
    {
     "name": "stdout",
     "output_type": "stream",
     "text": [
      "(array([1.00000e+00, 2.00000e+00, 3.00000e+00, ..., 3.59926e+05,\n",
      "       3.59927e+05, 3.59928e+05]), array([7.77356032e+02, 2.42118354e+02, 1.85214866e+02, ...,\n",
      "       1.22270960e-03, 5.92110250e-04, 1.14699036e-03]), array([9.16213859e-01, 2.85367953e-01, 2.18300099e-01, ...,\n",
      "       4.62140788e-04, 2.64799754e-04, 6.62215193e-04]), array([7.19857e+05, 7.19855e+05, 7.19853e+05, ..., 7.00000e+00,\n",
      "       5.00000e+00, 3.00000e+00]))\n"
     ]
    }
   ],
   "source": [
    "print(Allan_dev_x)"
   ]
  },
  {
   "cell_type": "markdown",
   "metadata": {},
   "source": [
    "### Unpacking the results for each axis"
   ]
  },
  {
   "cell_type": "code",
   "execution_count": 93,
   "metadata": {},
   "outputs": [],
   "source": [
    "t2_x, ad_x, ade_x, adn_x = Allan_dev_x"
   ]
  },
  {
   "cell_type": "code",
   "execution_count": 88,
   "metadata": {},
   "outputs": [
    {
     "name": "stdout",
     "output_type": "stream",
     "text": [
      "<class 'tuple'>\n"
     ]
    }
   ],
   "source": [
    "print(type(Allan_dev_x))"
   ]
  },
  {
   "cell_type": "code",
   "execution_count": 89,
   "metadata": {},
   "outputs": [],
   "source": [
    "#calculating for gyro-y\n",
    "Allan_dev_y = allantools.oadev(gyro_data['Angular_rate_y'], taus='all')"
   ]
  },
  {
   "cell_type": "code",
   "execution_count": 90,
   "metadata": {},
   "outputs": [
    {
     "name": "stdout",
     "output_type": "stream",
     "text": [
      "(array([1.00000e+00, 2.00000e+00, 3.00000e+00, ..., 3.59926e+05,\n",
      "       3.59927e+05, 3.59928e+05]), array([2.70045090e+02, 1.25513747e+02, 8.56636915e+01, ...,\n",
      "       3.25464429e-04, 4.01428073e-04, 6.47761182e-04]), array([3.18282800e-01, 1.47934266e-01, 1.00965936e-01, ...,\n",
      "       1.23013992e-04, 1.79524092e-04, 3.73985093e-04]), array([7.19857e+05, 7.19855e+05, 7.19853e+05, ..., 7.00000e+00,\n",
      "       5.00000e+00, 3.00000e+00]))\n"
     ]
    }
   ],
   "source": [
    "print(Allan_dev_y)"
   ]
  },
  {
   "cell_type": "code",
   "execution_count": 94,
   "metadata": {},
   "outputs": [],
   "source": [
    "t2_y, ad_y, ade_y, adn_y = Allan_dev_y"
   ]
  },
  {
   "cell_type": "code",
   "execution_count": 91,
   "metadata": {},
   "outputs": [],
   "source": [
    "#calculating for gyro-z\n",
    "Allan_dev_z = allantools.oadev(gyro_data['Angular_rate_z'], taus='all')"
   ]
  },
  {
   "cell_type": "code",
   "execution_count": 92,
   "metadata": {},
   "outputs": [
    {
     "name": "stdout",
     "output_type": "stream",
     "text": [
      "(array([1.00000e+00, 2.00000e+00, 3.00000e+00, ..., 3.59926e+05,\n",
      "       3.59927e+05, 3.59928e+05]), array([2.19729131e+02, 1.03631183e+02, 7.03938944e+01, ...,\n",
      "       5.56847543e-04, 3.36684190e-04, 5.50805312e-04]), array([2.58978984e-01, 1.22142820e-01, 8.29684702e-02, ...,\n",
      "       2.10468588e-04, 1.50569747e-04, 3.18007595e-04]), array([7.19857e+05, 7.19855e+05, 7.19853e+05, ..., 7.00000e+00,\n",
      "       5.00000e+00, 3.00000e+00]))\n"
     ]
    }
   ],
   "source": [
    "print(Allan_dev_z)"
   ]
  },
  {
   "cell_type": "code",
   "execution_count": 110,
   "metadata": {
    "vscode": {
     "languageId": "javascript"
    }
   },
   "outputs": [],
   "source": [
    "t2_z, ad_z, ade_z, adn_z = Allan_dev_z\n"
   ]
  },
  {
   "cell_type": "markdown",
   "metadata": {},
   "source": [
    "### Calculating the Allan Variance for each axis"
   ]
  },
  {
   "cell_type": "code",
   "execution_count": 109,
   "metadata": {},
   "outputs": [
    {
     "name": "stdout",
     "output_type": "stream",
     "text": [
      "[6.04282400e+05 5.86212972e+04 3.43045467e+04 ... 1.49501875e-06\n",
      " 3.50594548e-07 1.31558688e-06]\n",
      "[7.29243507e+04 1.57537007e+04 7.33826803e+03 ... 1.05927095e-07\n",
      " 1.61144498e-07 4.19594549e-07]\n",
      "[4.82808910e+04 1.07394220e+04 4.95530036e+03 ... 3.10079186e-07\n",
      " 1.13356244e-07 3.03386492e-07]\n"
     ]
    }
   ],
   "source": [
    "allan_variance_x = ad_x**2\n",
    "allan_variance_y = ad_y**2\n",
    "allan_variance_z = ad_z**2\n",
    "print(allan_variance_x)\n",
    "print(allan_variance_y)\n",
    "print(allan_variance_z)\n"
   ]
  },
  {
   "cell_type": "code",
   "execution_count": 112,
   "metadata": {},
   "outputs": [],
   "source": [
    "# Find the index of the local minimum Allan variance for each axis\n",
    "min_idx_x = np.argmin(allan_variance_x)\n",
    "min_idx_y = np.argmin(allan_variance_y)\n",
    "min_idx_z = np.argmin(allan_variance_z)"
   ]
  },
  {
   "cell_type": "markdown",
   "metadata": {},
   "source": [
    "### Calculating the Bias instability (B)"
   ]
  },
  {
   "cell_type": "code",
   "execution_count": 114,
   "metadata": {},
   "outputs": [
    {
     "name": "stdout",
     "output_type": "stream",
     "text": [
      "2.1985013490385264e-07\n",
      "1.0592709482301996e-07\n",
      "1.1335624353974784e-07\n"
     ]
    }
   ],
   "source": [
    "# Calculate bias instability (B) for each axis\n",
    "bias_instability_x = allan_variance_x[min_idx_x]\n",
    "bias_instability_y = allan_variance_y[min_idx_y]\n",
    "bias_instability_z = allan_variance_z[min_idx_z]\n",
    "print(bias_instability_x)\n",
    "print(bias_instability_y)\n",
    "print(bias_instability_z)"
   ]
  },
  {
   "cell_type": "markdown",
   "metadata": {},
   "source": [
    "### Calculating the Angle random walk (N)"
   ]
  },
  {
   "cell_type": "code",
   "execution_count": 131,
   "metadata": {},
   "outputs": [
    {
     "name": "stdout",
     "output_type": "stream",
     "text": [
      "604282.4003323624\n",
      "72924.35070681656\n",
      "48280.89098953875\n"
     ]
    }
   ],
   "source": [
    "#Extracting allan variance at T = 1s\n",
    "fs = 40 #sampling frequency in Hz\n",
    "T = 1\n",
    "AVAR_x_at_1s = allan_variance_x[np.where(t2_x == T)[0][0]]\n",
    "print(AVAR_x_at_1s)\n",
    "AVAR_y_at_1s = allan_variance_y[np.where(t2_y == T)[0][0]]\n",
    "print(AVAR_y_at_1s)\n",
    "AVAR_z_at_1s = allan_variance_z[np.where(t2_z == T)[0][0]]\n",
    "print(AVAR_z_at_1s)\n"
   ]
  },
  {
   "cell_type": "code",
   "execution_count": 134,
   "metadata": {},
   "outputs": [
    {
     "name": "stdout",
     "output_type": "stream",
     "text": [
      "N_x = 1.2324e+04 deg/sqrt(s)\n",
      "N_y = 4.2811e+03 deg/sqrt(s)\n",
      "N_z = 3.4834e+03 deg/sqrt(s)\n"
     ]
    }
   ],
   "source": [
    "#Calculating angle random walk\n",
    "N_x = np.sqrt(AVAR_x_at_1s) * np.sqrt(2 * np.pi * fs / T)\n",
    "N_y = np.sqrt(AVAR_y_at_1s) * np.sqrt(2 * np.pi * fs / T)\n",
    "N_z = np.sqrt(AVAR_z_at_1s) * np.sqrt(2 * np.pi * fs / T)\n",
    "\n",
    "# print(N_x, N_y, N_z)\n",
    "print(f\"N_x = {N_x:.4e} deg/sqrt(s)\")\n",
    "print(f\"N_y = {N_y:.4e} deg/sqrt(s)\")\n",
    "print(f\"N_z = {N_z:.4e} deg/sqrt(s)\")"
   ]
  },
  {
   "cell_type": "markdown",
   "metadata": {},
   "source": [
    "### Calulating the Rate Random Walk (K)"
   ]
  },
  {
   "cell_type": "code",
   "execution_count": 142,
   "metadata": {},
   "outputs": [
    {
     "name": "stdout",
     "output_type": "stream",
     "text": [
      "Rate random walk (K_x): 3.9659e-08 deg/sqrt(s)\n",
      "Rate random walk (K_y): -1.1470e-07 deg/sqrt(s)\n",
      "Rate random walk (K_z): -3.3463e-09 deg/sqrt(s)\n"
     ]
    }
   ],
   "source": [
    "\n",
    "\n",
    "# Calculate the slope (Rate random walk, K) using neighboring points\n",
    "slope_x = (allan_variance_x[min_idx_x + 1] - allan_variance_x[min_idx_x - 1]) / (t2_x[min_idx_x + 1] - t2_x[min_idx_x - 1])\n",
    "slope_y = (allan_variance_y[min_idx_y + 1] - allan_variance_y[min_idx_y - 1]) / (t2_y[min_idx_y + 1] - t2_y[min_idx_y - 1])\n",
    "slope_z = (allan_variance_z[min_idx_z + 1] - allan_variance_z[min_idx_z - 1]) / (t2_z[min_idx_z + 1] - t2_z[min_idx_z - 1])\n",
    "\n",
    "print(f\"Rate random walk (K_x): {slope_x:.4e} deg/sqrt(s)\")\n",
    "print(f\"Rate random walk (K_y): {slope_y:.4e} deg/sqrt(s)\")\n",
    "print(f\"Rate random walk (K_z): {slope_z:.4e} deg/sqrt(s)\")\n"
   ]
  },
  {
   "cell_type": "markdown",
   "metadata": {},
   "source": [
    "### Plotting the graph "
   ]
  },
  {
   "cell_type": "code",
   "execution_count": 151,
   "metadata": {},
   "outputs": [
    {
     "data": {
      "image/png": "[encoded data removed]",
      "text/plain": [
       "<Figure size 640x480 with 1 Axes>"
      ]
     },
     "metadata": {},
     "output_type": "display_data"
    }
   ],
   "source": [
    "plt.figure\n",
    "plt.title('Gyro Allan Variance vs. Taus')\n",
    "plt.plot(t2_x, allan_variance_x, label=f'gx (B: {bias_instability_x:.2e}) (N: {N_x:.2e}) (K: {slope_x:.2e})')\n",
    "plt.plot(t2_y, allan_variance_y, label=f'gy (B: {bias_instability_y:.2e}) (N: {N_y:.2e}) (K: {slope_y:.2e})')\n",
    "plt.plot(t2_z, allan_variance_z, label =f'gz (B: {bias_instability_z:.2e}) (N: {N_z:.2e}) (K: {slope_z:.2e})')\n",
    "# Annotating bias instability values on the plot (adjust position and formatting)\n",
    "plt.annotate('(B: {:.2e})'.format(bias_instability_x), (t2_x[min_idx_x], allan_variance_x[min_idx_x]), xytext=(0.05, -0.05), textcoords='offset points', fontsize=10)\n",
    "plt.annotate('(B: {:.2e})'.format(bias_instability_y), (t2_y[min_idx_y], allan_variance_y[min_idx_y]), xytext=(0.05, -0.05), textcoords='offset points', fontsize=10)\n",
    "plt.annotate('(B: {:.2e})'.format(bias_instability_z), (t2_z[min_idx_z], allan_variance_z[min_idx_z]), xytext=(0.05, -0.05), textcoords='offset points', fontsize=10)\n",
    "\n",
    "# Annotating angle random walk values on the plot\n",
    "plt.annotate(f'(N_x: {N_x:.2e})', (t2_x[1], allan_variance_x[np.where(t2_x == T)[0][0]]), xytext=(0.05, -0.15), textcoords='offset points', fontsize=10)\n",
    "plt.annotate(f'(N_y: {N_y:.2e})', (t2_y[1], allan_variance_y[np.where(t2_y == T)[0][0]]), xytext=(0.05, -0.15), textcoords='offset points', fontsize=10)\n",
    "plt.annotate(f'(N_z: {N_z:.2e})', (t2_z[1], allan_variance_z[np.where(t2_z == T)[0][0]]), xytext=(0.05, -0.15), textcoords='offset points', fontsize=10)\n",
    "\n",
    "#Annotating Rate random walk values on the plot\n",
    "# plt.annotate(f'(K_x: {slope_x:.2e})', (t2_x[min_idx_x], allan_variance_x[min_idx_x]), xytext=(0.05, -0.25), textcoords='offset points', fontsize=10)\n",
    "# plt.annotate(f'(K_y: {slope_y:.2e})', (t2_y[min_idx_y], allan_variance_y[min_idx_y]), xytext=(0.05, -0.25), textcoords='offset points', fontsize=10)\n",
    "# plt.annotate(f'(K_z: {slope_z:.2e})', (t2_z[min_idx_z], allan_variance_z[min_idx_z]), xytext=(0.05, -0.25), textcoords='offset points', fontsize=10)\n",
    "\n",
    "plt.xlabel(r'$\\tau$ [sec]')\n",
    "plt.ylabel('Variance [deg/sec]^2')\n",
    "plt.grid(True)\n",
    "plt.legend()\n",
    "plt.xscale('log')\n",
    "plt.yscale('log')\n",
    "plt.savefig('Allan_variance_taus.png')\n",
    "plt.tight_layout()\n",
    "plt.show()"
   ]
  },
  {
   "cell_type": "code",
   "execution_count": null,
   "metadata": {},
   "outputs": [],
   "source": []
  }
 ],
 "metadata": {
  "kernelspec": {
   "display_name": "Python 3",
   "language": "python",
   "name": "python3"
  },
  "language_info": {
   "codemirror_mode": {
    "name": "ipython",
    "version": 3
   },
   "file_extension": ".py",
   "mimetype": "text/x-python",
   "name": "python",
   "nbconvert_exporter": "python",
   "pygments_lexer": "ipython3",
   "version": "3.12.1"
  }
 },
 "nbformat": 4,
 "nbformat_minor": 2
}
